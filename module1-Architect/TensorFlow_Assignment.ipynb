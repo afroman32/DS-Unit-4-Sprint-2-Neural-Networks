{
  "nbformat": 4,
  "nbformat_minor": 0,
  "metadata": {
    "colab": {
      "name": "Copy of TensorFlow Assignment",
      "provenance": [],
      "collapsed_sections": [],
      "toc_visible": true,
      "include_colab_link": true
    },
    "kernelspec": {
      "name": "python3",
      "display_name": "Python 3"
    },
    "accelerator": "GPU"
  },
  "cells": [
    {
      "cell_type": "markdown",
      "metadata": {
        "id": "view-in-github",
        "colab_type": "text"
      },
      "source": [
        "<a href=\"https://colab.research.google.com/github/afroman32/DS-Unit-4-Sprint-2-Neural-Networks/blob/main/module1-Architect/TensorFlow_Assignment.ipynb\" target=\"_parent\"><img src=\"https://colab.research.google.com/assets/colab-badge.svg\" alt=\"Open In Colab\"/></a>"
      ]
    },
    {
      "cell_type": "markdown",
      "metadata": {
        "id": "ObyHCH8HvHSf"
      },
      "source": [
        "<img align=\"left\" src=\"https://lever-client-logos.s3.amazonaws.com/864372b1-534c-480e-acd5-9711f850815c-1524247202159.png\" width=200>\n",
        "<br></br>\n",
        "<br></br>\n",
        "\n",
        "# *Data Science Unit 4 Sprint 2 Assignment 1*\n",
        "\n",
        "Use TensorFlow Keras & a sample of the [Quickdraw dataset](https://github.com/googlecreativelab/quickdraw-dataset) to build a sketch classification model. The dataset has been sampled to only 10 classes and 10000 observations per class. Please build a baseline classification model then run a few experiments with different optimizers and learning rates. \n",
        "\n",
        "*Don't forgot to switch to GPU on Colab!*"
      ]
    },
    {
      "cell_type": "markdown",
      "metadata": {
        "id": "s-Tc3ovEyQ9b"
      },
      "source": [
        "## Load Your Data"
      ]
    },
    {
      "cell_type": "code",
      "metadata": {
        "id": "CkU0pAYCvU8o",
        "outputId": "a06b90dc-5d87-4742-9f44-3d22fbfdb7f7",
        "colab": {
          "base_uri": "https://localhost:8080/"
        }
      },
      "source": [
        "import numpy as np\n",
        "import tensorflow as tf \n",
        "data = np.load('quickdraw10.npz')\n",
        "X = data['arr_0']\n",
        "y = data['arr_1']\n",
        "\n",
        "print(X.shape)\n",
        "print(y.shape)"
      ],
      "execution_count": null,
      "outputs": [
        {
          "output_type": "stream",
          "text": [
            "(100000, 784)\n",
            "(100000,)\n"
          ],
          "name": "stdout"
        }
      ]
    },
    {
      "cell_type": "code",
      "metadata": {
        "id": "c8qsDqdqvHDd"
      },
      "source": [
        "class_names = ['apple',\n",
        " 'anvil',\n",
        " 'airplane',\n",
        " 'banana',\n",
        " 'The Eiffel Tower',\n",
        " 'The Mona Lisa',\n",
        " 'The Great Wall of China',\n",
        " 'alarm clock',\n",
        " 'ant',\n",
        " 'asparagus']"
      ],
      "execution_count": null,
      "outputs": []
    },
    {
      "cell_type": "code",
      "metadata": {
        "id": "Owbm1EbxvA5A",
        "outputId": "8be1f45c-0857-462f-ebcf-5c59308822a9",
        "colab": {
          "base_uri": "https://localhost:8080/",
          "height": 289
        }
      },
      "source": [
        "import matplotlib.pyplot as plt\n",
        "plt.figure(figsize=(10,5))\n",
        "start = 0\n",
        "\n",
        "for num, name in enumerate(class_names):\n",
        "    plt.subplot(2,5, num+1)\n",
        "    plt.xticks([])\n",
        "    plt.yticks([])\n",
        "    plt.grid(False)\n",
        "    plt.imshow(X[start].reshape(28,28), cmap=plt.cm.binary)\n",
        "    plt.xlabel(name)\n",
        "    start += 10000\n",
        "plt.show()"
      ],
      "execution_count": null,
      "outputs": [
        {
          "output_type": "display_data",
          "data": {
            "image/png": "[encoded data removed]",
            "text/plain": [
              "<Figure size 720x360 with 10 Axes>"
            ]
          },
          "metadata": {
            "tags": []
          }
        }
      ]
    },
    {
      "cell_type": "code",
      "metadata": {
        "id": "c97_M1WNvTNY"
      },
      "source": [
        "# Need this line to randomly shuffle both the X & y at the same time.\n",
        "\n",
        "from sklearn.utils import shuffle\n",
        "X, y = shuffle(X, y)"
      ],
      "execution_count": null,
      "outputs": []
    },
    {
      "cell_type": "markdown",
      "metadata": {
        "id": "jb70CbLVyK65"
      },
      "source": [
        "## Build Your Baseline Model\n",
        "Some Hints:\n",
        "\n",
        "\n",
        "*  Model should have 784 input values (like mnist)\n",
        "*  Use `sparse_categorical_crossentropy` as your loss function.\n",
        "* You need 10 neurons in your last layer for output\n",
        "* You can add as many hidden layers with as many neurons in them as you like. \n",
        "* Limit your model epochs to 30 each time you fit.\n",
        "* You can use the `validation_split` command to automatically create a training / validation dataset.  Specify a percentage such as .2 in your fit statement. \n",
        "\n"
      ]
    },
    {
      "cell_type": "code",
      "metadata": {
        "id": "kYMk9VyeDpC9",
        "outputId": "2f8bb939-184f-4e21-9472-bdba5980ad9c",
        "colab": {
          "base_uri": "https://localhost:8080/"
        }
      },
      "source": [
        "%load_ext tensorboard\n",
        "\n",
        "import os\n",
        "import datetime\n",
        "import tensorflow as tf\n",
        "\n",
        "logdir = os.path.join(\"logs\", datetime.datetime.now().strftime(\"%Y%m%d-%H%M%S\"))\n",
        "tensorboard_callback = tf.keras.callbacks.TensorBoard(logdir, histogram_freq=1)"
      ],
      "execution_count": null,
      "outputs": [
        {
          "output_type": "stream",
          "text": [
            "The tensorboard extension is already loaded. To reload it, use:\n",
            "  %reload_ext tensorboard\n"
          ],
          "name": "stdout"
        }
      ]
    },
    {
      "cell_type": "code",
      "metadata": {
        "id": "zHWblzsMyNkU",
        "outputId": "b3fa1421-c09c-4cd2-ada6-061a10631011",
        "colab": {
          "base_uri": "https://localhost:8080/"
        }
      },
      "source": [
        "import tensorflow as tf\n",
        "from tensorflow.keras.models import Sequential\n",
        "from tensorflow.keras.layers import Dense\n",
        "\n",
        "baseline = Sequential([\n",
        "    # Flatten(input_shape=(28,28)),\n",
        "    Dense(64, activation='relu'),\n",
        "    Dense(1000, activation='relu'),\n",
        "    Dense(2000, activation='relu'),\n",
        "    Dense(128, activation='relu'),\n",
        "    # Dense(2048, activation='relu'),\n",
        "    Dense(10, activation='softmax')\n",
        "]\n",
        ")\n",
        "\n",
        "baseline.compile(optimizer='sgd', loss='sparse_categorical_crossentropy', metrics=['accuracy'])\n",
        "baseline.fit(X, \n",
        "          y,\n",
        "          epochs=30, \n",
        "          batch_size=64, \n",
        "          validation_split=.2,\n",
        "          callbacks=[tensorboard_callback])"
      ],
      "execution_count": null,
      "outputs": [
        {
          "output_type": "stream",
          "text": [
            "Epoch 1/30\n",
            "   1/1250 [..............................] - ETA: 0s - loss: 27.3290 - accuracy: 0.1094WARNING:tensorflow:From /usr/local/lib/python3.6/dist-packages/tensorflow/python/ops/summary_ops_v2.py:1277: stop (from tensorflow.python.eager.profiler) is deprecated and will be removed after 2020-07-01.\n",
            "Instructions for updating:\n",
            "use `tf.profiler.experimental.stop` instead.\n",
            "WARNING:tensorflow:Callbacks method `on_train_batch_end` is slow compared to the batch time (batch time: 0.0054s vs `on_train_batch_end` time: 0.0329s). Check your callbacks.\n",
            "1250/1250 [==============================] - 4s 3ms/step - loss: 3.0606 - accuracy: 0.2424 - val_loss: 1.6338 - val_accuracy: 0.3874\n",
            "Epoch 2/30\n",
            "1250/1250 [==============================] - 4s 3ms/step - loss: 1.4144 - accuracy: 0.4674 - val_loss: 1.3064 - val_accuracy: 0.4990\n",
            "Epoch 3/30\n",
            "1250/1250 [==============================] - 4s 3ms/step - loss: 1.2178 - accuracy: 0.5741 - val_loss: 1.1418 - val_accuracy: 0.6177\n",
            "Epoch 4/30\n",
            "1250/1250 [==============================] - 4s 3ms/step - loss: 1.1390 - accuracy: 0.6215 - val_loss: 1.0696 - val_accuracy: 0.6413\n",
            "Epoch 5/30\n",
            "1250/1250 [==============================] - 4s 3ms/step - loss: 0.9988 - accuracy: 0.6750 - val_loss: 0.9709 - val_accuracy: 0.6857\n",
            "Epoch 6/30\n",
            "1250/1250 [==============================] - 4s 3ms/step - loss: 0.8795 - accuracy: 0.7247 - val_loss: 0.8388 - val_accuracy: 0.7354\n",
            "Epoch 7/30\n",
            "1250/1250 [==============================] - 4s 3ms/step - loss: 0.8171 - accuracy: 0.7461 - val_loss: 0.8212 - val_accuracy: 0.7455\n",
            "Epoch 8/30\n",
            "1250/1250 [==============================] - 4s 3ms/step - loss: 0.7860 - accuracy: 0.7551 - val_loss: 0.8047 - val_accuracy: 0.7496\n",
            "Epoch 9/30\n",
            "1250/1250 [==============================] - 4s 3ms/step - loss: 0.7688 - accuracy: 0.7610 - val_loss: 0.7733 - val_accuracy: 0.7607\n",
            "Epoch 10/30\n",
            "1250/1250 [==============================] - 4s 3ms/step - loss: 0.7609 - accuracy: 0.7646 - val_loss: 0.7851 - val_accuracy: 0.7570\n",
            "Epoch 11/30\n",
            "1250/1250 [==============================] - 4s 3ms/step - loss: 0.7461 - accuracy: 0.7684 - val_loss: 0.7919 - val_accuracy: 0.7566\n",
            "Epoch 12/30\n",
            "1250/1250 [==============================] - 4s 3ms/step - loss: 0.7363 - accuracy: 0.7705 - val_loss: 0.7601 - val_accuracy: 0.7664\n",
            "Epoch 13/30\n",
            "1250/1250 [==============================] - 4s 3ms/step - loss: 0.7301 - accuracy: 0.7721 - val_loss: 0.7720 - val_accuracy: 0.7592\n",
            "Epoch 14/30\n",
            "1250/1250 [==============================] - 4s 3ms/step - loss: 0.7241 - accuracy: 0.7746 - val_loss: 0.7574 - val_accuracy: 0.7703\n",
            "Epoch 15/30\n",
            "1250/1250 [==============================] - 4s 3ms/step - loss: 0.7199 - accuracy: 0.7743 - val_loss: 0.7503 - val_accuracy: 0.7691\n",
            "Epoch 16/30\n",
            "1250/1250 [==============================] - 4s 3ms/step - loss: 0.7149 - accuracy: 0.7776 - val_loss: 0.7505 - val_accuracy: 0.7680\n",
            "Epoch 17/30\n",
            "1250/1250 [==============================] - 4s 3ms/step - loss: 0.7120 - accuracy: 0.7774 - val_loss: 0.7309 - val_accuracy: 0.7731\n",
            "Epoch 18/30\n",
            "1250/1250 [==============================] - 4s 3ms/step - loss: 0.7066 - accuracy: 0.7794 - val_loss: 0.7363 - val_accuracy: 0.7723\n",
            "Epoch 19/30\n",
            "1250/1250 [==============================] - 4s 3ms/step - loss: 0.7117 - accuracy: 0.7779 - val_loss: 0.7506 - val_accuracy: 0.7686\n",
            "Epoch 20/30\n",
            "1250/1250 [==============================] - 4s 3ms/step - loss: 0.8334 - accuracy: 0.7506 - val_loss: 0.8019 - val_accuracy: 0.7607\n",
            "Epoch 21/30\n",
            "1250/1250 [==============================] - 4s 3ms/step - loss: 0.7360 - accuracy: 0.7736 - val_loss: 0.7542 - val_accuracy: 0.7648\n",
            "Epoch 22/30\n",
            "1250/1250 [==============================] - 4s 3ms/step - loss: 0.7142 - accuracy: 0.7775 - val_loss: 0.7429 - val_accuracy: 0.7754\n",
            "Epoch 23/30\n",
            "1250/1250 [==============================] - 4s 3ms/step - loss: 0.7066 - accuracy: 0.7803 - val_loss: 0.7399 - val_accuracy: 0.7704\n",
            "Epoch 24/30\n",
            "1250/1250 [==============================] - 4s 3ms/step - loss: 0.7001 - accuracy: 0.7814 - val_loss: 0.7721 - val_accuracy: 0.7592\n",
            "Epoch 25/30\n",
            "1250/1250 [==============================] - 4s 3ms/step - loss: 0.6993 - accuracy: 0.7830 - val_loss: 0.7480 - val_accuracy: 0.7711\n",
            "Epoch 26/30\n",
            "1250/1250 [==============================] - 4s 3ms/step - loss: 0.6923 - accuracy: 0.7835 - val_loss: 0.7477 - val_accuracy: 0.7679\n",
            "Epoch 27/30\n",
            "1250/1250 [==============================] - 4s 3ms/step - loss: 0.6893 - accuracy: 0.7846 - val_loss: 0.7411 - val_accuracy: 0.7728\n",
            "Epoch 28/30\n",
            "1250/1250 [==============================] - 4s 3ms/step - loss: 0.6870 - accuracy: 0.7842 - val_loss: 0.7332 - val_accuracy: 0.7712\n",
            "Epoch 29/30\n",
            "1250/1250 [==============================] - 4s 3ms/step - loss: 0.6835 - accuracy: 0.7849 - val_loss: 0.7406 - val_accuracy: 0.7684\n",
            "Epoch 30/30\n",
            "1250/1250 [==============================] - 4s 3ms/step - loss: 0.6813 - accuracy: 0.7866 - val_loss: 0.7348 - val_accuracy: 0.7721\n"
          ],
          "name": "stdout"
        },
        {
          "output_type": "execute_result",
          "data": {
            "text/plain": [
              "<tensorflow.python.keras.callbacks.History at 0x7fdbc03b87f0>"
            ]
          },
          "metadata": {
            "tags": []
          },
          "execution_count": 11
        }
      ]
    },
    {
      "cell_type": "markdown",
      "metadata": {
        "id": "b0QJURWh-9uv"
      },
      "source": [
        "### Visualize the results\n",
        "\n",
        "Create charts for both loss and accuracy by epoch. Use line graphs for both charts. Analyze the results. \n",
        "\n",
        "At what point should we have stopped training the model and why? \n",
        "\n",
        "**Epoh 26 should have been the last one becasue after that the accuracy and loss decrease**"
      ]
    },
    {
      "cell_type": "code",
      "metadata": {
        "id": "KONJtU5wqlXf"
      },
      "source": [
        "history = baseline.history.history"
      ],
      "execution_count": null,
      "outputs": []
    },
    {
      "cell_type": "code",
      "metadata": {
        "id": "ijAlzfYKAFaY",
        "outputId": "cf8812fe-c22a-4015-972f-84246c959fb4",
        "colab": {
          "base_uri": "https://localhost:8080/",
          "height": 279
        }
      },
      "source": [
        "import seaborn as sns\n",
        "import pandas as pd\n",
        "\n",
        "df = pd.DataFrame.from_records(history)\n",
        "df['epoch'] = [i for i in range(df.shape[0])]\n",
        "\n",
        "ax = sns.lineplot(x='epoch', y='val_loss', data=df)\n",
        "ax = sns.lineplot(x='epoch', y='loss', data=df);"
      ],
      "execution_count": null,
      "outputs": [
        {
          "output_type": "display_data",
          "data": {
            "image/png": "[encoded data removed]",
            "text/plain": [
              "<Figure size 432x288 with 1 Axes>"
            ]
          },
          "metadata": {
            "tags": [],
            "needs_background": "light"
          }
        }
      ]
    },
    {
      "cell_type": "markdown",
      "metadata": {
        "id": "MAhBrcE4yOZe"
      },
      "source": [
        "## Change Optimizers\n",
        "Try using the keras `adam` optimizer instead of `sgd` in your model. Visualize the difference in validation loss between the models with different optimizers. "
      ]
    },
    {
      "cell_type": "code",
      "metadata": {
        "id": "jIW_spOZ0cxy",
        "outputId": "8be7183c-1a7d-4909-a39e-50b6a20bc58f",
        "colab": {
          "base_uri": "https://localhost:8080/"
        }
      },
      "source": [
        "from tensorflow.keras.optimizers import Adam\n",
        "\n",
        "adam = Adam()\n",
        "\n",
        "adam_model = Sequential([\n",
        "    # Flatten(input_shape=(28,28)),\n",
        "    Dense(64, activation='relu'),\n",
        "    Dense(1000, activation='relu'),\n",
        "    Dense(2000, activation='relu'),\n",
        "    Dense(128, activation='relu'),\n",
        "    # Dense(2048, activation='relu'),\n",
        "    Dense(10, activation='softmax')\n",
        "]\n",
        ")\n",
        "adam_model.compile(optimizer='adam', loss='sparse_categorical_crossentropy', metrics=['accuracy'])\n",
        "adam_model.fit(X, \n",
        "          y,\n",
        "          epochs=20, \n",
        "          batch_size=64, \n",
        "          validation_split=.2,\n",
        "          callbacks=[tensorboard_callback])"
      ],
      "execution_count": null,
      "outputs": [
        {
          "output_type": "stream",
          "text": [
            "Epoch 1/20\n",
            "   1/1250 [..............................] - ETA: 0s - loss: 35.2723 - accuracy: 0.0625WARNING:tensorflow:Callbacks method `on_train_batch_end` is slow compared to the batch time (batch time: 0.0055s vs `on_train_batch_end` time: 0.0394s). Check your callbacks.\n",
            "1250/1250 [==============================] - 4s 3ms/step - loss: 1.4474 - accuracy: 0.5942 - val_loss: 0.9228 - val_accuracy: 0.7163\n",
            "Epoch 2/20\n",
            "1250/1250 [==============================] - 4s 3ms/step - loss: 0.7796 - accuracy: 0.7660 - val_loss: 0.6908 - val_accuracy: 0.7952\n",
            "Epoch 3/20\n",
            "1250/1250 [==============================] - 4s 3ms/step - loss: 0.6325 - accuracy: 0.8110 - val_loss: 0.6294 - val_accuracy: 0.8111\n",
            "Epoch 4/20\n",
            "1250/1250 [==============================] - 4s 3ms/step - loss: 0.5713 - accuracy: 0.8290 - val_loss: 0.5827 - val_accuracy: 0.8287\n",
            "Epoch 5/20\n",
            "1250/1250 [==============================] - 4s 3ms/step - loss: 0.5323 - accuracy: 0.8392 - val_loss: 0.5774 - val_accuracy: 0.8317\n",
            "Epoch 6/20\n",
            "1250/1250 [==============================] - 4s 3ms/step - loss: 0.4977 - accuracy: 0.8502 - val_loss: 0.5675 - val_accuracy: 0.8300\n",
            "Epoch 7/20\n",
            "1250/1250 [==============================] - 4s 3ms/step - loss: 0.4724 - accuracy: 0.8582 - val_loss: 0.5543 - val_accuracy: 0.8377\n",
            "Epoch 8/20\n",
            "1250/1250 [==============================] - 4s 3ms/step - loss: 0.4485 - accuracy: 0.8638 - val_loss: 0.5387 - val_accuracy: 0.8436\n",
            "Epoch 9/20\n",
            "1250/1250 [==============================] - 4s 3ms/step - loss: 0.4214 - accuracy: 0.8718 - val_loss: 0.5434 - val_accuracy: 0.8457\n",
            "Epoch 10/20\n",
            "1250/1250 [==============================] - 4s 3ms/step - loss: 0.4035 - accuracy: 0.8768 - val_loss: 0.5560 - val_accuracy: 0.8411\n",
            "Epoch 11/20\n",
            "1250/1250 [==============================] - 4s 3ms/step - loss: 0.3811 - accuracy: 0.8837 - val_loss: 0.5864 - val_accuracy: 0.8456\n",
            "Epoch 12/20\n",
            "1250/1250 [==============================] - 4s 3ms/step - loss: 0.3677 - accuracy: 0.8877 - val_loss: 0.5678 - val_accuracy: 0.8474\n",
            "Epoch 13/20\n",
            "1250/1250 [==============================] - 4s 3ms/step - loss: 0.3575 - accuracy: 0.8913 - val_loss: 0.5866 - val_accuracy: 0.8508\n",
            "Epoch 14/20\n",
            "1250/1250 [==============================] - 4s 3ms/step - loss: 0.3409 - accuracy: 0.8951 - val_loss: 0.5781 - val_accuracy: 0.8480\n",
            "Epoch 15/20\n",
            "1250/1250 [==============================] - 4s 4ms/step - loss: 0.3273 - accuracy: 0.8990 - val_loss: 0.5965 - val_accuracy: 0.8495\n",
            "Epoch 16/20\n",
            "1250/1250 [==============================] - 4s 3ms/step - loss: 0.3231 - accuracy: 0.9010 - val_loss: 0.6328 - val_accuracy: 0.8503\n",
            "Epoch 17/20\n",
            "1250/1250 [==============================] - 4s 3ms/step - loss: 0.3068 - accuracy: 0.9063 - val_loss: 0.6760 - val_accuracy: 0.8467\n",
            "Epoch 18/20\n",
            "1250/1250 [==============================] - 4s 3ms/step - loss: 0.2991 - accuracy: 0.9089 - val_loss: 0.6041 - val_accuracy: 0.8490\n",
            "Epoch 19/20\n",
            "1250/1250 [==============================] - 4s 3ms/step - loss: 0.2965 - accuracy: 0.9094 - val_loss: 0.6591 - val_accuracy: 0.8416\n",
            "Epoch 20/20\n",
            "1250/1250 [==============================] - 4s 3ms/step - loss: 0.2809 - accuracy: 0.9143 - val_loss: 0.7253 - val_accuracy: 0.8475\n"
          ],
          "name": "stdout"
        },
        {
          "output_type": "execute_result",
          "data": {
            "text/plain": [
              "<tensorflow.python.keras.callbacks.History at 0x7fdb68b25fd0>"
            ]
          },
          "metadata": {
            "tags": []
          },
          "execution_count": 16
        }
      ]
    },
    {
      "cell_type": "code",
      "metadata": {
        "id": "oF9RGoVIOZJI",
        "outputId": "95b6440d-8a98-4611-b9d5-b17139d3d7c9",
        "colab": {
          "base_uri": "https://localhost:8080/",
          "height": 279
        }
      },
      "source": [
        "import seaborn as sns\n",
        "import pandas as pd\n",
        "\n",
        "history = adam_model.history.history\n",
        "\n",
        "df = pd.DataFrame.from_records(history)\n",
        "df['epoch'] = [i for i in range(df.shape[0])]\n",
        "\n",
        "ax = sns.lineplot(x='epoch', y='val_loss', data=df)\n",
        "ax = sns.lineplot(x='epoch', y='loss', data=df);"
      ],
      "execution_count": null,
      "outputs": [
        {
          "output_type": "display_data",
          "data": {
            "image/png": "[encoded data removed]",
            "text/plain": [
              "<Figure size 432x288 with 1 Axes>"
            ]
          },
          "metadata": {
            "tags": [],
            "needs_background": "light"
          }
        }
      ]
    },
    {
      "cell_type": "markdown",
      "metadata": {
        "id": "EJrbh3qryi4w"
      },
      "source": [
        "### Additional Written Tasks:\n",
        "In this section, you will need to search for resources: \n",
        "1. Investigate the various [loss functions](https://www.tensorflow.org/api_docs/python/tf/keras/losses). Which is best suited for the task at hand (predicting 1 / 0) and why? \n",
        "\n",
        "   - The loss function most suited for the task at hand is cross entropy. This is because it compares the predicted value to the actual value and then a score is calculated that penalizes based on how distance from the expected value. This score is logarithmic so a smaller distance would have a small score and a farther distance is extremely larger.\n",
        "2. What is the difference between a loss function and a metric? Why might we need both in Keras? \n",
        "\n",
        "  - A loss function is used to optimize the model and a metric is used to measure the efffetiveness of the model\n",
        "3. Investigate the various [optimizers](https://www.tensorflow.org/api_docs/python/tf/keras/optimizers). Stochastic Gradient Descent (`sgd`) is not the learning algorithm dejour anyone. Why is that? What do newer optimizers such as `adam` have to offer?\n",
        "\n"
      ]
    },
    {
      "cell_type": "code",
      "metadata": {
        "id": "Y0l-AaUtNt_D"
      },
      "source": [
        ""
      ],
      "execution_count": null,
      "outputs": []
    },
    {
      "cell_type": "markdown",
      "metadata": {
        "id": "Gzs4fd-RynDd"
      },
      "source": [
        "## Stretch Goals: \n",
        "\n",
        "- Research convolutional neural networks and try including convolution layers in your network.\n",
        "- Pick two classes and make QuickDraw a binary classification problem, how does your model architecture change?\n",
        "- Implement Cross Validation model evaluation on your Quickdraw implementation \n",
        "\n",
        "Watch some more videos on Gradient Descent:\n",
        "- [Gradient Descent, Step-by-Step](https://www.youtube.com/watch?v=sDv4f4s2SB8)  by StatQuest w/ Josh Starmer. This will help you understand the gradient descent based optimization that happens underneath the hood of neural networks. It uses a non-neural network example, which I believe is a gentler introduction. You will hear me refer to this technique as \"vanilla\" gradient descent. \n",
        "- [Stochastic Gradient Descent, Clearly Explained!!!](https://www.youtube.com/watch?v=vMh0zPT0tLI) by StatQuest w/ Josh Starmer. This builds on the techniques in the previous video.  This technique is the one that is actually implemented inside modern 'nets. \n",
        "- [Siraj Raval the evolution of gradient descent](https://www.youtube.com/watch?v=nhqo0u1a6fw)"
      ]
    },
    {
      "cell_type": "code",
      "metadata": {
        "id": "GSRB7I7GERdo"
      },
      "source": [
        ""
      ],
      "execution_count": null,
      "outputs": []
    }
  ]
}