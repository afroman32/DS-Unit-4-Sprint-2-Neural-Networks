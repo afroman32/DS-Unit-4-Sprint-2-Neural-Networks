{
  "nbformat": 4,
  "nbformat_minor": 0,
  "metadata": {
    "colab": {
      "name": "TensorFlow Assignment",
      "provenance": [],
      "collapsed_sections": [],
      "toc_visible": true,
      "include_colab_link": true
    },
    "kernelspec": {
      "name": "python3",
      "display_name": "Python 3"
    },
    "accelerator": "GPU"
  },
  "cells": [
    {
      "cell_type": "markdown",
      "metadata": {
        "id": "view-in-github",
        "colab_type": "text"
      },
      "source": [
        "<a href=\"https://colab.research.google.com/github/afroman32/DS-Unit-4-Sprint-2-Neural-Networks/blob/main/module1-Architect/TensorFlow_Assignment.ipynb\" target=\"_parent\"><img src=\"https://colab.research.google.com/assets/colab-badge.svg\" alt=\"Open In Colab\"/></a>"
      ]
    },
    {
      "cell_type": "markdown",
      "metadata": {
        "id": "ObyHCH8HvHSf",
        "colab_type": "text"
      },
      "source": [
        "<img align=\"left\" src=\"https://lever-client-logos.s3.amazonaws.com/864372b1-534c-480e-acd5-9711f850815c-1524247202159.png\" width=200>\n",
        "<br></br>\n",
        "<br></br>\n",
        "\n",
        "# *Data Science Unit 4 Sprint 2 Assignment 1*\n",
        "\n",
        "Use TensorFlow Keras & a sample of the [Quickdraw dataset](https://github.com/googlecreativelab/quickdraw-dataset) to build a sketch classification model. The dataset has been sampled to only 10 classes and 10000 observations per class. Please build a baseline classification model then run a few experiments with different optimizers and learning rates. \n",
        "\n",
        "*Don't forgot to switch to GPU on Colab!*"
      ]
    },
    {
      "cell_type": "markdown",
      "metadata": {
        "id": "s-Tc3ovEyQ9b",
        "colab_type": "text"
      },
      "source": [
        "## Load Your Data"
      ]
    },
    {
      "cell_type": "code",
      "metadata": {
        "id": "CkU0pAYCvU8o",
        "colab_type": "code",
        "colab": {
          "base_uri": "https://localhost:8080/",
          "height": 52
        },
        "outputId": "6a7f9312-3178-4053-deab-842dbea263a7"
      },
      "source": [
        "import numpy as np\n",
        "import tensorflow as tf \n",
        "\n",
        "data = np.load('quickdraw10.npz')\n",
        "X = data['arr_0']\n",
        "y = data['arr_1']\n",
        "\n",
        "print(X.shape)\n",
        "print(y.shape)"
      ],
      "execution_count": 3,
      "outputs": [
        {
          "output_type": "stream",
          "text": [
            "(100000, 784)\n",
            "(100000,)\n"
          ],
          "name": "stdout"
        }
      ]
    },
    {
      "cell_type": "code",
      "metadata": {
        "id": "c8qsDqdqvHDd",
        "colab_type": "code",
        "colab": {}
      },
      "source": [
        "class_names = ['apple',\n",
        " 'anvil',\n",
        " 'airplane',\n",
        " 'banana',\n",
        " 'The Eiffel Tower',\n",
        " 'The Mona Lisa',\n",
        " 'The Great Wall of China',\n",
        " 'alarm clock',\n",
        " 'ant',\n",
        " 'asparagus']"
      ],
      "execution_count": 4,
      "outputs": []
    },
    {
      "cell_type": "code",
      "metadata": {
        "id": "Owbm1EbxvA5A",
        "colab_type": "code",
        "colab": {
          "base_uri": "https://localhost:8080/",
          "height": 289
        },
        "outputId": "58d4ec92-2b1f-4da5-b64f-eddb204eb742"
      },
      "source": [
        "import matplotlib.pyplot as plt\n",
        "plt.figure(figsize=(10,5))\n",
        "start = 0\n",
        "\n",
        "for num, name in enumerate(class_names):\n",
        "    plt.subplot(2,5, num+1)\n",
        "    plt.xticks([])\n",
        "    plt.yticks([])\n",
        "    plt.grid(False)\n",
        "    plt.imshow(X[start].reshape(28,28), cmap=plt.cm.binary)\n",
        "    plt.xlabel(name)\n",
        "    start += 10000\n",
        "plt.show()"
      ],
      "execution_count": 5,
      "outputs": [
        {
          "output_type": "display_data",
          "data": {
            "image/png": "[encoded data removed]",
            "text/plain": [
              "<Figure size 720x360 with 10 Axes>"
            ]
          },
          "metadata": {
            "tags": []
          }
        }
      ]
    },
    {
      "cell_type": "code",
      "metadata": {
        "id": "c97_M1WNvTNY",
        "colab_type": "code",
        "colab": {}
      },
      "source": [
        "# Need this line to randomly shuffle both the X & y at the same time.\n",
        "\n",
        "from sklearn.utils import shuffle\n",
        "X, y = shuffle(X, y)"
      ],
      "execution_count": 6,
      "outputs": []
    },
    {
      "cell_type": "markdown",
      "metadata": {
        "id": "jb70CbLVyK65",
        "colab_type": "text"
      },
      "source": [
        "## Build Your Baseline Model\n",
        "Some Hints:\n",
        "\n",
        "\n",
        "*  Model should have 784 input values (like mnist)\n",
        "*  Use `sparse_categorical_crossentropy` as your loss function.\n",
        "* You need 10 neurons in your last layer for output\n",
        "* You can add as many hidden layers with as many neurons in them as you like. \n",
        "* Limit your model epochs to 30 each time you fit.\n",
        "* You can use the `validation_split` command to automatically create a training / validation dataset.  Specify a percentage such as .2 in your fit statement. \n",
        "\n"
      ]
    },
    {
      "cell_type": "code",
      "metadata": {
        "id": "zHWblzsMyNkU",
        "colab_type": "code",
        "colab": {
          "base_uri": "https://localhost:8080/",
          "height": 1000
        },
        "outputId": "d9472f78-642c-4d7d-8afe-0edc7b916b6f"
      },
      "source": [
        "import tensorflow as tf\n",
        "from tensorflow.keras.models import Sequential\n",
        "from tensorflow.keras.layers import Dense\n",
        "\n",
        "baseline = Sequential([\n",
        "    # Flatten(input_shape=(28,28)),\n",
        "    Dense(64, activation='relu'),\n",
        "    Dense(1000, activation='relu'),\n",
        "    Dense(2000, activation='relu'),\n",
        "    Dense(128, activation='relu'),\n",
        "    # Dense(2048, activation='relu'),\n",
        "    Dense(10, activation='softmax')\n",
        "]\n",
        ")\n",
        "\n",
        "baseline.compile(optimizer='sgd', loss='sparse_categorical_crossentropy', metrics=['accuracy'])\n",
        "baseline.fit(X, \n",
        "          y,\n",
        "          epochs=30, \n",
        "          batch_size=64, \n",
        "          validation_split=.2,\n",
        "          callbacks=[tensorboard_callback])"
      ],
      "execution_count": 27,
      "outputs": [
        {
          "output_type": "stream",
          "text": [
            "Epoch 1/30\n",
            "   1/1250 [..............................] - ETA: 0s - loss: 22.5920 - accuracy: 0.0781WARNING:tensorflow:Callbacks method `on_train_batch_end` is slow compared to the batch time (batch time: 0.0044s vs `on_train_batch_end` time: 0.0333s). Check your callbacks.\n",
            "1250/1250 [==============================] - 4s 3ms/step - loss: 2.4376 - accuracy: 0.2713 - val_loss: 1.4888 - val_accuracy: 0.4460\n",
            "Epoch 2/30\n",
            "1250/1250 [==============================] - 3s 3ms/step - loss: 1.2311 - accuracy: 0.5570 - val_loss: 1.0847 - val_accuracy: 0.6094\n",
            "Epoch 3/30\n",
            "1250/1250 [==============================] - 4s 3ms/step - loss: 1.0067 - accuracy: 0.6625 - val_loss: 0.9510 - val_accuracy: 0.6939\n",
            "Epoch 4/30\n",
            "1250/1250 [==============================] - 3s 3ms/step - loss: 0.9138 - accuracy: 0.7032 - val_loss: 0.9047 - val_accuracy: 0.7135\n",
            "Epoch 5/30\n",
            "1250/1250 [==============================] - 4s 3ms/step - loss: 0.8762 - accuracy: 0.7190 - val_loss: 0.8608 - val_accuracy: 0.7296\n",
            "Epoch 6/30\n",
            "1250/1250 [==============================] - 3s 3ms/step - loss: 0.8372 - accuracy: 0.7322 - val_loss: 0.8547 - val_accuracy: 0.7296\n",
            "Epoch 7/30\n",
            "1250/1250 [==============================] - 3s 3ms/step - loss: 0.8141 - accuracy: 0.7407 - val_loss: 0.8258 - val_accuracy: 0.7407\n",
            "Epoch 8/30\n",
            "1250/1250 [==============================] - 4s 3ms/step - loss: 0.7941 - accuracy: 0.7491 - val_loss: 0.8083 - val_accuracy: 0.7479\n",
            "Epoch 9/30\n",
            "1250/1250 [==============================] - 3s 3ms/step - loss: 0.7779 - accuracy: 0.7541 - val_loss: 0.7925 - val_accuracy: 0.7545\n",
            "Epoch 10/30\n",
            "1250/1250 [==============================] - 3s 3ms/step - loss: 0.7643 - accuracy: 0.7597 - val_loss: 0.8145 - val_accuracy: 0.7491\n",
            "Epoch 11/30\n",
            "1250/1250 [==============================] - 3s 3ms/step - loss: 0.7518 - accuracy: 0.7644 - val_loss: 0.7868 - val_accuracy: 0.7537\n",
            "Epoch 12/30\n",
            "1250/1250 [==============================] - 4s 3ms/step - loss: 0.7432 - accuracy: 0.7671 - val_loss: 0.7967 - val_accuracy: 0.7566\n",
            "Epoch 13/30\n",
            "1250/1250 [==============================] - 3s 3ms/step - loss: 0.7331 - accuracy: 0.7695 - val_loss: 0.7793 - val_accuracy: 0.7585\n",
            "Epoch 14/30\n",
            "1250/1250 [==============================] - 3s 3ms/step - loss: 0.7184 - accuracy: 0.7743 - val_loss: 0.7575 - val_accuracy: 0.7657\n",
            "Epoch 15/30\n",
            "1250/1250 [==============================] - 3s 3ms/step - loss: 0.7063 - accuracy: 0.7789 - val_loss: 0.7464 - val_accuracy: 0.7678\n",
            "Epoch 16/30\n",
            "1250/1250 [==============================] - 4s 3ms/step - loss: 0.6949 - accuracy: 0.7818 - val_loss: 0.7411 - val_accuracy: 0.7712\n",
            "Epoch 17/30\n",
            "1250/1250 [==============================] - 4s 3ms/step - loss: 0.6841 - accuracy: 0.7861 - val_loss: 0.7331 - val_accuracy: 0.7754\n",
            "Epoch 18/30\n",
            "1250/1250 [==============================] - 4s 3ms/step - loss: 0.6751 - accuracy: 0.7892 - val_loss: 0.7312 - val_accuracy: 0.7779\n",
            "Epoch 19/30\n",
            "1250/1250 [==============================] - 4s 3ms/step - loss: 0.6629 - accuracy: 0.7921 - val_loss: 0.7270 - val_accuracy: 0.7779\n",
            "Epoch 20/30\n",
            "1250/1250 [==============================] - 4s 3ms/step - loss: 0.6555 - accuracy: 0.7943 - val_loss: 0.7084 - val_accuracy: 0.7833\n",
            "Epoch 21/30\n",
            "1250/1250 [==============================] - 3s 3ms/step - loss: 0.6443 - accuracy: 0.7973 - val_loss: 0.7067 - val_accuracy: 0.7880\n",
            "Epoch 22/30\n",
            "1250/1250 [==============================] - 3s 3ms/step - loss: 0.6352 - accuracy: 0.7998 - val_loss: 0.7043 - val_accuracy: 0.7849\n",
            "Epoch 23/30\n",
            "1250/1250 [==============================] - 3s 3ms/step - loss: 0.6272 - accuracy: 0.8024 - val_loss: 0.6999 - val_accuracy: 0.7867\n",
            "Epoch 24/30\n",
            "1250/1250 [==============================] - 3s 3ms/step - loss: 0.6179 - accuracy: 0.8035 - val_loss: 0.7020 - val_accuracy: 0.7844\n",
            "Epoch 25/30\n",
            "1250/1250 [==============================] - 4s 3ms/step - loss: 0.6121 - accuracy: 0.8058 - val_loss: 0.7063 - val_accuracy: 0.7854\n",
            "Epoch 26/30\n",
            "1250/1250 [==============================] - 3s 3ms/step - loss: 0.6051 - accuracy: 0.8082 - val_loss: 0.6846 - val_accuracy: 0.7918\n",
            "Epoch 27/30\n",
            "1250/1250 [==============================] - 3s 3ms/step - loss: 0.6006 - accuracy: 0.8108 - val_loss: 0.6807 - val_accuracy: 0.7912\n",
            "Epoch 28/30\n",
            "1250/1250 [==============================] - 3s 3ms/step - loss: 0.5916 - accuracy: 0.8120 - val_loss: 0.6889 - val_accuracy: 0.7900\n",
            "Epoch 29/30\n",
            "1250/1250 [==============================] - 3s 3ms/step - loss: 0.5826 - accuracy: 0.8148 - val_loss: 0.6807 - val_accuracy: 0.7910\n",
            "Epoch 30/30\n",
            "1250/1250 [==============================] - 3s 3ms/step - loss: 0.5788 - accuracy: 0.8160 - val_loss: 0.6847 - val_accuracy: 0.7928\n"
          ],
          "name": "stdout"
        },
        {
          "output_type": "execute_result",
          "data": {
            "text/plain": [
              "<tensorflow.python.keras.callbacks.History at 0x7ff4a632d438>"
            ]
          },
          "metadata": {
            "tags": []
          },
          "execution_count": 27
        }
      ]
    },
    {
      "cell_type": "markdown",
      "metadata": {
        "id": "b0QJURWh-9uv",
        "colab_type": "text"
      },
      "source": [
        "### Visualize the results\n",
        "\n",
        "Create charts for both loss and accuracy by epoch. Use line graphs for both charts. Analyze the results. \n",
        "\n",
        "At what point should we have stopped training the model and why? \n",
        "\n",
        "**Epoh 26 should have been the last one becasue after that the accuracy and loss decrease**"
      ]
    },
    {
      "cell_type": "code",
      "metadata": {
        "id": "KONJtU5wqlXf",
        "colab_type": "code",
        "colab": {}
      },
      "source": [
        "history = baseline.history.history"
      ],
      "execution_count": 28,
      "outputs": []
    },
    {
      "cell_type": "code",
      "metadata": {
        "id": "ijAlzfYKAFaY",
        "colab_type": "code",
        "colab": {
          "base_uri": "https://localhost:8080/",
          "height": 280
        },
        "outputId": "9bd62e66-ef0f-4bfe-b668-2d7eaef15cf0"
      },
      "source": [
        "import seaborn as sns\n",
        "import pandas as pd\n",
        "\n",
        "df = pd.DataFrame.from_records(history)\n",
        "df['epoch'] = [i for i in range(df.shape[0])]\n",
        "\n",
        "ax = sns.lineplot(x='epoch', y='val_loss', data=df)\n",
        "ax = sns.lineplot(x='epoch', y='loss', data=df);"
      ],
      "execution_count": 29,
      "outputs": [
        {
          "output_type": "display_data",
          "data": {
            "image/png": "[encoded data removed]",
            "text/plain": [
              "<Figure size 432x288 with 1 Axes>"
            ]
          },
          "metadata": {
            "tags": [],
            "needs_background": "light"
          }
        }
      ]
    },
    {
      "cell_type": "markdown",
      "metadata": {
        "id": "MAhBrcE4yOZe",
        "colab_type": "text"
      },
      "source": [
        "## Change Optimizers\n",
        "Try using the keras `adam` optimizer instead of `sgd` in your model. Visualize the difference in validation loss between the models with different optimizers. "
      ]
    },
    {
      "cell_type": "code",
      "metadata": {
        "id": "jIW_spOZ0cxy",
        "colab_type": "code",
        "colab": {
          "base_uri": "https://localhost:8080/",
          "height": 776
        },
        "outputId": "0d904235-c499-4f63-c95a-a37e0f09e251"
      },
      "source": [
        "from tensorflow.keras.optimizers import Adam\n",
        "\n",
        "adam = Adam()\n",
        "\n",
        "adam_model = Sequential([\n",
        "    # Flatten(input_shape=(28,28)),\n",
        "    Dense(64, activation='relu'),\n",
        "    Dense(1000, activation='relu'),\n",
        "    Dense(2000, activation='relu'),\n",
        "    Dense(128, activation='relu'),\n",
        "    # Dense(2048, activation='relu'),\n",
        "    Dense(10, activation='softmax')\n",
        "]\n",
        ")\n",
        "adam_model.compile(optimizer='adam', loss='sparse_categorical_crossentropy', metrics=['accuracy'])\n",
        "adam_model.fit(X, \n",
        "          y,\n",
        "          epochs=20, \n",
        "          batch_size=64, \n",
        "          validation_split=.2,\n",
        "          callbacks=[tensorboard_callback])"
      ],
      "execution_count": 25,
      "outputs": [
        {
          "output_type": "stream",
          "text": [
            "Epoch 1/20\n",
            "   1/1250 [..............................] - ETA: 0s - loss: 15.8285 - accuracy: 0.2188WARNING:tensorflow:Callbacks method `on_train_batch_end` is slow compared to the batch time (batch time: 0.0037s vs `on_train_batch_end` time: 0.0376s). Check your callbacks.\n",
            "1250/1250 [==============================] - 4s 3ms/step - loss: 1.5272 - accuracy: 0.5880 - val_loss: 0.8378 - val_accuracy: 0.7439\n",
            "Epoch 2/20\n",
            "1250/1250 [==============================] - 4s 3ms/step - loss: 0.7698 - accuracy: 0.7666 - val_loss: 0.7262 - val_accuracy: 0.7799\n",
            "Epoch 3/20\n",
            "1250/1250 [==============================] - 4s 3ms/step - loss: 0.6931 - accuracy: 0.7883 - val_loss: 0.6665 - val_accuracy: 0.8008\n",
            "Epoch 4/20\n",
            "1250/1250 [==============================] - 3s 3ms/step - loss: 0.6402 - accuracy: 0.8045 - val_loss: 0.6620 - val_accuracy: 0.8041\n",
            "Epoch 5/20\n",
            "1250/1250 [==============================] - 3s 3ms/step - loss: 0.5983 - accuracy: 0.8194 - val_loss: 0.6196 - val_accuracy: 0.8119\n",
            "Epoch 6/20\n",
            "1250/1250 [==============================] - 4s 3ms/step - loss: 0.5634 - accuracy: 0.8286 - val_loss: 0.6446 - val_accuracy: 0.8092\n",
            "Epoch 7/20\n",
            "1250/1250 [==============================] - 3s 3ms/step - loss: 0.5359 - accuracy: 0.8366 - val_loss: 0.6265 - val_accuracy: 0.8191\n",
            "Epoch 8/20\n",
            "1250/1250 [==============================] - 4s 3ms/step - loss: 0.5084 - accuracy: 0.8448 - val_loss: 0.5682 - val_accuracy: 0.8324\n",
            "Epoch 9/20\n",
            "1250/1250 [==============================] - 4s 3ms/step - loss: 0.4877 - accuracy: 0.8497 - val_loss: 0.5802 - val_accuracy: 0.8324\n",
            "Epoch 10/20\n",
            "1250/1250 [==============================] - 4s 3ms/step - loss: 0.4697 - accuracy: 0.8567 - val_loss: 0.6004 - val_accuracy: 0.8296\n",
            "Epoch 11/20\n",
            "1250/1250 [==============================] - 4s 3ms/step - loss: 0.4522 - accuracy: 0.8607 - val_loss: 0.5714 - val_accuracy: 0.8359\n",
            "Epoch 12/20\n",
            "1250/1250 [==============================] - 4s 3ms/step - loss: 0.4364 - accuracy: 0.8660 - val_loss: 0.5629 - val_accuracy: 0.8397\n",
            "Epoch 13/20\n",
            "1250/1250 [==============================] - 4s 3ms/step - loss: 0.4179 - accuracy: 0.8732 - val_loss: 0.5883 - val_accuracy: 0.8410\n",
            "Epoch 14/20\n",
            "1250/1250 [==============================] - 3s 3ms/step - loss: 0.4021 - accuracy: 0.8765 - val_loss: 0.5733 - val_accuracy: 0.8417\n",
            "Epoch 15/20\n",
            "1250/1250 [==============================] - 3s 3ms/step - loss: 0.3871 - accuracy: 0.8803 - val_loss: 0.5832 - val_accuracy: 0.8453\n",
            "Epoch 16/20\n",
            "1250/1250 [==============================] - 3s 3ms/step - loss: 0.3809 - accuracy: 0.8842 - val_loss: 0.5838 - val_accuracy: 0.8465\n",
            "Epoch 17/20\n",
            "1250/1250 [==============================] - 3s 3ms/step - loss: 0.3635 - accuracy: 0.8889 - val_loss: 0.6296 - val_accuracy: 0.8408\n",
            "Epoch 18/20\n",
            "1250/1250 [==============================] - 3s 3ms/step - loss: 0.3525 - accuracy: 0.8922 - val_loss: 0.6208 - val_accuracy: 0.8426\n",
            "Epoch 19/20\n",
            "1250/1250 [==============================] - 3s 3ms/step - loss: 0.3410 - accuracy: 0.8958 - val_loss: 0.6479 - val_accuracy: 0.8398\n",
            "Epoch 20/20\n",
            "1250/1250 [==============================] - 3s 3ms/step - loss: 0.3333 - accuracy: 0.8975 - val_loss: 0.6244 - val_accuracy: 0.8409\n"
          ],
          "name": "stdout"
        },
        {
          "output_type": "execute_result",
          "data": {
            "text/plain": [
              "<tensorflow.python.keras.callbacks.History at 0x7ff52179ab38>"
            ]
          },
          "metadata": {
            "tags": []
          },
          "execution_count": 25
        }
      ]
    },
    {
      "cell_type": "code",
      "metadata": {
        "id": "oF9RGoVIOZJI",
        "colab_type": "code",
        "colab": {
          "base_uri": "https://localhost:8080/",
          "height": 279
        },
        "outputId": "74896911-37d8-4080-cffb-6ed3745fbf1c"
      },
      "source": [
        "import seaborn as sns\n",
        "import pandas as pd\n",
        "\n",
        "history = adam_model.history.history\n",
        "\n",
        "df = pd.DataFrame.from_records(history)\n",
        "df['epoch'] = [i for i in range(df.shape[0])]\n",
        "\n",
        "ax = sns.lineplot(x='epoch', y='val_loss', data=df)\n",
        "ax = sns.lineplot(x='epoch', y='loss', data=df);"
      ],
      "execution_count": 26,
      "outputs": [
        {
          "output_type": "display_data",
          "data": {
            "image/png": "[encoded data removed]",
            "text/plain": [
              "<Figure size 432x288 with 1 Axes>"
            ]
          },
          "metadata": {
            "tags": [],
            "needs_background": "light"
          }
        }
      ]
    },
    {
      "cell_type": "markdown",
      "metadata": {
        "id": "EJrbh3qryi4w",
        "colab_type": "text"
      },
      "source": [
        "### Additional Written Tasks:\n",
        "In this section, you will need to search for resources: \n",
        "1. Investigate the various [loss functions](https://www.tensorflow.org/api_docs/python/tf/keras/losses). Which is best suited for the task at hand (predicting 1 / 0) and why? \n",
        "2. What is the difference between a loss function and a metric? Why might we need both in Keras? \n",
        "3. Investigate the various [optimizers](https://www.tensorflow.org/api_docs/python/tf/keras/optimizers). Stochastic Gradient Descent (`sgd`) is not the learning algorithm dejour anyone. Why is that? What do newer optimizers such as `adam` have to offer? "
      ]
    },
    {
      "cell_type": "markdown",
      "metadata": {
        "id": "Gzs4fd-RynDd",
        "colab_type": "text"
      },
      "source": [
        "## Stretch Goals: \n",
        "\n",
        "- Research convolutional neural networks and try including convolution layers in your network.\n",
        "- Pick two classes and make QuickDraw a binary classification problem, how does your model architecture change?\n",
        "- Implement Cross Validation model evaluation on your Quickdraw implementation \n",
        "\n",
        "Watch some more videos on Gradient Descent:\n",
        "- [Gradient Descent, Step-by-Step](https://www.youtube.com/watch?v=sDv4f4s2SB8)  by StatQuest w/ Josh Starmer. This will help you understand the gradient descent based optimization that happens underneath the hood of neural networks. It uses a non-neural network example, which I believe is a gentler introduction. You will hear me refer to this technique as \"vanilla\" gradient descent. \n",
        "- [Stochastic Gradient Descent, Clearly Explained!!!](https://www.youtube.com/watch?v=vMh0zPT0tLI) by StatQuest w/ Josh Starmer. This builds on the techniques in the previous video.  This technique is the one that is actually implemented inside modern 'nets. \n",
        "- [Siraj Raval the evolution of gradient descent](https://www.youtube.com/watch?v=nhqo0u1a6fw)"
      ]
    }
  ]
}